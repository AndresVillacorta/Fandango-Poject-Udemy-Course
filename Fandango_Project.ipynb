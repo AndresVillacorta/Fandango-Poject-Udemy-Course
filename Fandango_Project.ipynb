{
 "cells": [
  {
   "cell_type": "markdown",
   "id": "40af38c8-823b-4d73-af5c-60d309bb3283",
   "metadata": {},
   "source": [
    "# Fandango Project"
   ]
  },
  {
   "attachments": {},
   "cell_type": "markdown",
   "id": "c9e436b5-9171-4489-9565-c94187fc42a9",
   "metadata": {},
   "source": [
    "**- Objetivo:** Determinar si la calificación que Fandango colocaba a las películas durante el 2015 estaban manipulados para poder vender más boletos de cine."
   ]
  },
  {
   "cell_type": "code",
   "execution_count": null,
   "id": "7be00bfc-47f4-4de6-8af9-5f1d122c0e1c",
   "metadata": {},
   "outputs": [],
   "source": [
    "import numpy as np\n",
    "import pandas as pd\n",
    "import matplotlib.pyplot as plt\n",
    "import seaborn as sns"
   ]
  },
  {
   "cell_type": "markdown",
   "id": "7fc4ff06-9298-4f6f-8b38-8f6336a40914",
   "metadata": {},
   "source": [
    "# Parte 1: Analizar el puntaje de Fandango vs el puntaje de los usuarios"
   ]
  },
  {
   "cell_type": "code",
   "execution_count": null,
   "id": "629ca4b1-687f-4b36-a7ce-5ae82e68b1b0",
   "metadata": {},
   "outputs": [],
   "source": [
    "fandango = pd.read_csv('fandango_scrape.csv')"
   ]
  },
  {
   "cell_type": "code",
   "execution_count": null,
   "id": "07c0c613-0837-4147-b86f-f311949f910a",
   "metadata": {},
   "outputs": [],
   "source": [
    "fandango.head()"
   ]
  },
  {
   "cell_type": "code",
   "execution_count": null,
   "id": "4dac124a-8167-44b0-8137-dda17441b90a",
   "metadata": {},
   "outputs": [],
   "source": [
    "fandango.info()"
   ]
  },
  {
   "cell_type": "code",
   "execution_count": null,
   "id": "d4b805f0-2e23-4ae4-8ba6-0dd1e01cee62",
   "metadata": {},
   "outputs": [],
   "source": [
    "round(fandango.describe(),2)"
   ]
  },
  {
   "cell_type": "code",
   "execution_count": null,
   "id": "17e6dfd1-24b9-448e-b81a-caf9f90ede86",
   "metadata": {},
   "outputs": [],
   "source": [
    "# Se analiza la relación entre la popularidad del film y su puntaje \n",
    "\n",
    "plt.figure(figsize=(10,4), dpi=200)\n",
    "sns.scatterplot(data=fandango, x='RATING', y='VOTES')"
   ]
  },
  {
   "cell_type": "code",
   "execution_count": null,
   "id": "10d68a1a-37ed-4e1d-bc6e-af771526c033",
   "metadata": {},
   "outputs": [],
   "source": [
    "round(fandango.corr(),2)"
   ]
  },
  {
   "cell_type": "code",
   "execution_count": null,
   "id": "e5212c24-b8bf-4958-abbf-8da3b744aebf",
   "metadata": {},
   "outputs": [],
   "source": [
    "# Se crea una nueva columna extrayendo el año de la columna FILM\n",
    "\n",
    "fandango['release_year'] = fandango['FILM'].apply(lambda title:title.split('(')[-1])"
   ]
  },
  {
   "cell_type": "code",
   "execution_count": null,
   "id": "0290b80e-5504-409b-9924-07868cd68d30",
   "metadata": {},
   "outputs": [],
   "source": [
    "fandango['release_year'] = fandango['release_year'].apply(lambda title:title.split(')')[-2])"
   ]
  },
  {
   "cell_type": "code",
   "execution_count": null,
   "id": "c09c303b-7e81-4aba-be9a-324982f30c80",
   "metadata": {},
   "outputs": [],
   "source": [
    "fandango"
   ]
  },
  {
   "cell_type": "code",
   "execution_count": null,
   "id": "d3fbf31c-c991-4ad0-a77e-4e4875893e63",
   "metadata": {},
   "outputs": [],
   "source": [
    "fandango['release_year'].value_counts()"
   ]
  },
  {
   "cell_type": "code",
   "execution_count": null,
   "id": "b128d450-3daf-4f97-8035-a3e644c7229d",
   "metadata": {},
   "outputs": [],
   "source": [
    "sns.countplot(data=fandango, x='release_year')"
   ]
  },
  {
   "cell_type": "code",
   "execution_count": null,
   "id": "025bd730-766f-4809-b6f9-cf67b1ac7f83",
   "metadata": {},
   "outputs": [],
   "source": [
    "fandango.nlargest(10,'VOTES')"
   ]
  },
  {
   "cell_type": "code",
   "execution_count": null,
   "id": "b432ea31-9367-4974-9902-e0f3e8e30cf1",
   "metadata": {},
   "outputs": [],
   "source": [
    "sum(fandango['VOTES']==0)"
   ]
  },
  {
   "cell_type": "code",
   "execution_count": null,
   "id": "701178b9-a015-4262-9396-bbc7088f1281",
   "metadata": {},
   "outputs": [],
   "source": [
    "# Nos quedamos solo con las películas que tengan una calificación\n",
    "\n",
    "reviewed = fandango[fandango['VOTES']>0]"
   ]
  },
  {
   "cell_type": "code",
   "execution_count": null,
   "id": "70ea4c67-0ab7-4065-8751-c994da2baf3b",
   "metadata": {},
   "outputs": [],
   "source": [
    "reviewed"
   ]
  },
  {
   "cell_type": "code",
   "execution_count": null,
   "id": "2cfa60ab-b5f7-4e35-bd9d-0f9b6450c2e9",
   "metadata": {},
   "outputs": [],
   "source": [
    "plt.figure(figsize=(10,4), dpi=200)\n",
    "sns.kdeplot(data=reviewed, x='RATING', clip=[0,5], fill=True, label='TRUE RATING')\n",
    "sns.kdeplot(data=reviewed, x='STARS', clip=[0,5], fill=True, label='STARS DISPLAYED')\n",
    "plt.legend(loc=(1.05,0.5))"
   ]
  },
  {
   "cell_type": "code",
   "execution_count": null,
   "id": "c711939b-8f68-4ac7-84b7-b50c9881373e",
   "metadata": {},
   "outputs": [],
   "source": [
    "# Se crea una columna para conocer la diferencia entre el puntaje mostrado y el de los usuarios\n",
    "\n",
    "reviewed['STARS_DIFF'] = reviewed['STARS'] - reviewed['RATING']\n",
    "reviewed['STARS_DIFF'] = reviewed['STARS_DIFF'].round(2)\n",
    "reviewed"
   ]
  },
  {
   "cell_type": "code",
   "execution_count": null,
   "id": "ba847695-b357-4687-a4ef-b7aaf9eaad06",
   "metadata": {},
   "outputs": [],
   "source": [
    "plt.figure(figsize=(10,4), dpi=200)\n",
    "sns.countplot(data=reviewed, x='STARS_DIFF')"
   ]
  },
  {
   "cell_type": "code",
   "execution_count": null,
   "id": "0f9ffdfe-418f-4bab-9876-ba2c7f2e76c1",
   "metadata": {},
   "outputs": [],
   "source": [
    "reviewed[reviewed['STARS_DIFF'] == 1]"
   ]
  },
  {
   "cell_type": "markdown",
   "id": "518c1adb-8e5e-4dba-8f64-ab382d675e53",
   "metadata": {},
   "source": [
    "# Parte 2: Comparamos los puntajes de Fandango con otros sitios"
   ]
  },
  {
   "cell_type": "code",
   "execution_count": null,
   "id": "10f94fc8-bc5d-4dec-8be5-021a2324b4ad",
   "metadata": {},
   "outputs": [],
   "source": [
    "all_sites = pd.read_csv('all_sites_scores.csv')"
   ]
  },
  {
   "cell_type": "code",
   "execution_count": null,
   "id": "28489873-934b-400e-9b4e-11df7d38abd7",
   "metadata": {},
   "outputs": [],
   "source": [
    "all_sites.head()"
   ]
  },
  {
   "cell_type": "code",
   "execution_count": null,
   "id": "74586ebf-83f3-4aca-b30f-5bdceed2a900",
   "metadata": {},
   "outputs": [],
   "source": [
    "all_sites.info()"
   ]
  },
  {
   "cell_type": "code",
   "execution_count": null,
   "id": "a80e43c3-f622-4bf6-b8c2-11d6c8c3c387",
   "metadata": {},
   "outputs": [],
   "source": [
    "round(all_sites.describe(),2)"
   ]
  },
  {
   "cell_type": "markdown",
   "id": "e674d0ef-556a-4c39-8531-4f6d2f94ea96",
   "metadata": {},
   "source": [
    "### Rotten Tomatoes"
   ]
  },
  {
   "cell_type": "code",
   "execution_count": null,
   "id": "7150d12a-7ce0-4b19-b10f-c2e8298b993f",
   "metadata": {},
   "outputs": [],
   "source": [
    "plt.figure(figsize=(10,4), dpi=200)\n",
    "sns.scatterplot(data=all_sites, x='RottenTomatoes', y='RottenTomatoes_User')"
   ]
  },
  {
   "cell_type": "code",
   "execution_count": null,
   "id": "0f0ed2a0-ce28-478c-ba78-4d0e8d9f1fef",
   "metadata": {},
   "outputs": [],
   "source": [
    "all_sites['Rotten_Diff'] = all_sites['RottenTomatoes'] - all_sites['RottenTomatoes_User']"
   ]
  },
  {
   "cell_type": "code",
   "execution_count": null,
   "id": "61658016-fc5d-4a04-9ff8-3c0cd4a5b2b4",
   "metadata": {},
   "outputs": [],
   "source": [
    "all_sites['Rotten_Diff'].apply(abs).mean()"
   ]
  },
  {
   "cell_type": "code",
   "execution_count": null,
   "id": "9c997444-d4c9-4c7e-81eb-5fb03d856341",
   "metadata": {},
   "outputs": [],
   "source": [
    "plt.figure(figsize=(10,4), dpi=200)\n",
    "sns.histplot(data=all_sites, x='Rotten_Diff', kde=True, bins=20)\n",
    "plt.title('RT Critics Score minus RT User Score')"
   ]
  },
  {
   "cell_type": "code",
   "execution_count": null,
   "id": "d4d0e6f2-23ee-4342-9bba-54f526573104",
   "metadata": {},
   "outputs": [],
   "source": [
    "plt.figure(figsize=(10,4), dpi=200)\n",
    "sns.histplot(x=all_sites['Rotten_Diff'].apply(abs), kde=True, bins=18)\n",
    "plt.title('Abs Difference  between RT Critics Score and RT User Score')"
   ]
  },
  {
   "cell_type": "code",
   "execution_count": null,
   "id": "772eefa7-165c-4d80-849c-1a4e9a666200",
   "metadata": {},
   "outputs": [],
   "source": [
    "all_sites[['FILM','Rotten_Diff']].nsmallest(5,'Rotten_Diff')"
   ]
  },
  {
   "cell_type": "code",
   "execution_count": null,
   "id": "49985ef7-b332-42f2-93eb-d439b1355f4f",
   "metadata": {},
   "outputs": [],
   "source": [
    "all_sites[['FILM','Rotten_Diff']].nlargest(5,'Rotten_Diff')"
   ]
  },
  {
   "cell_type": "markdown",
   "id": "7eda2c1c-5452-4636-927a-21ddfc6daa15",
   "metadata": {},
   "source": [
    "### Metacritic"
   ]
  },
  {
   "cell_type": "code",
   "execution_count": null,
   "id": "3784d89b-823c-4953-9520-94f225ad621e",
   "metadata": {},
   "outputs": [],
   "source": [
    "plt.figure(figsize=(10,4), dpi=200)\n",
    "sns.scatterplot(data=all_sites, x='Metacritic', y='Metacritic_User')\n",
    "plt.xlim(0,100)\n",
    "plt.ylim(0,10)"
   ]
  },
  {
   "cell_type": "code",
   "execution_count": null,
   "id": "e086a475-c429-4f29-aac7-107c96180263",
   "metadata": {},
   "outputs": [],
   "source": [
    "plt.figure(figsize=(10,4), dpi=200)\n",
    "sns.scatterplot(data=all_sites, x='Metacritic_user_vote_count', y='IMDB_user_vote_count')"
   ]
  },
  {
   "cell_type": "markdown",
   "id": "f00be223-a159-4abe-bfd7-d386f6ad45ae",
   "metadata": {},
   "source": [
    "### IMDB"
   ]
  },
  {
   "cell_type": "code",
   "execution_count": null,
   "id": "53cb964a-4f46-42f6-a86f-13534243e10c",
   "metadata": {},
   "outputs": [],
   "source": [
    "all_sites.nlargest(1,'IMDB_user_vote_count')"
   ]
  },
  {
   "cell_type": "code",
   "execution_count": null,
   "id": "7e174688-968c-47a3-bda6-1a3b724d8861",
   "metadata": {},
   "outputs": [],
   "source": [
    "all_sites.nlargest(1,'Metacritic_user_vote_count')"
   ]
  },
  {
   "cell_type": "markdown",
   "id": "abeed059-20f6-4352-a464-b7815a75eca5",
   "metadata": {},
   "source": [
    "# Puntajes de Fandango vs otras webs"
   ]
  },
  {
   "cell_type": "code",
   "execution_count": null,
   "id": "647bf3a2-62d4-4bbd-81ff-8f7325141f56",
   "metadata": {},
   "outputs": [],
   "source": [
    "df = pd.merge(fandango,all_sites,on='FILM',how='inner')"
   ]
  },
  {
   "cell_type": "code",
   "execution_count": null,
   "id": "a12a8db8-8fe8-4a11-9aa4-ed0358c07d10",
   "metadata": {},
   "outputs": [],
   "source": [
    "df.info()"
   ]
  },
  {
   "cell_type": "code",
   "execution_count": null,
   "id": "758b17ac-7e7f-4666-8fef-7ddaabfea96d",
   "metadata": {},
   "outputs": [],
   "source": [
    "df.head()"
   ]
  },
  {
   "cell_type": "code",
   "execution_count": null,
   "id": "8363a186-6dc8-4a8e-a97e-120a3b2f4ee4",
   "metadata": {},
   "outputs": [],
   "source": [
    "# Normalizamos los puntajes\n",
    "\n",
    "df['RT_Norm'] = np.round(df['RottenTomatoes']/20,1)\n",
    "df['RTU_Norm'] = np.round(df['RottenTomatoes_User']/20,1)\n",
    "df['Meta_Norm'] = np.round(df['Metacritic']/20,1)\n",
    "df['Meta_U_Norm'] = np.round(df['Metacritic_User']/2,1)\n",
    "df['IMDB_Norm'] = np.round(df['IMDB']/2,1)"
   ]
  },
  {
   "cell_type": "code",
   "execution_count": null,
   "id": "1034d594-3305-4869-ad6c-a2c20cf6a224",
   "metadata": {},
   "outputs": [],
   "source": [
    "df.head()"
   ]
  },
  {
   "cell_type": "code",
   "execution_count": null,
   "id": "c8012fae-4dbd-40d5-a6ed-d7c0970dc566",
   "metadata": {},
   "outputs": [],
   "source": [
    "norm_scores = df[['STARS', 'RATING','RT_Norm','RTU_Norm','Meta_Norm','Meta_U_Norm','IMDB_Norm']]"
   ]
  },
  {
   "cell_type": "code",
   "execution_count": null,
   "id": "9fb4b5de-af5b-4726-85af-c1a99e84695e",
   "metadata": {},
   "outputs": [],
   "source": [
    "norm_scores.head()"
   ]
  },
  {
   "cell_type": "markdown",
   "id": "8be78f18-5200-4d21-84e9-a1e3f425effd",
   "metadata": {},
   "source": [
    "# Comparamos los puntajes entre todos"
   ]
  },
  {
   "cell_type": "code",
   "execution_count": null,
   "id": "e4169615-b13f-4942-adfb-49864583dc26",
   "metadata": {},
   "outputs": [],
   "source": [
    "def move_legend(ax, new_loc, **kws):\n",
    "    old_legend = ax.legend_\n",
    "    handles = old_legend.legendHandles\n",
    "    labels = [t.get_text() for t in old_legend.get_texts()]\n",
    "    title = old_legend.get_title().get_text()\n",
    "    ax.legend(handles, labels, loc=new_loc, title=title, **kws)"
   ]
  },
  {
   "cell_type": "code",
   "execution_count": null,
   "id": "1bb97b43-914c-4dda-9c28-3caae478fc52",
   "metadata": {},
   "outputs": [],
   "source": [
    "fig, ax = plt.subplots(figsize=(10,4),dpi=200)\n",
    "sns.kdeplot(data=norm_scores, clip=[0,5], fill=True, ax=ax)\n",
    "move_legend(ax, \"upper left\")"
   ]
  },
  {
   "cell_type": "code",
   "execution_count": null,
   "id": "c9a4a42e-d563-423f-8b3a-2b11b86d7233",
   "metadata": {},
   "outputs": [],
   "source": [
    "fig, ax = plt.subplots(figsize=(10,4), dpi=2000)\n",
    "sns.kdeplot(data=norm_scores[['RT_Norm','STARS']], clip=[0,5], fill=True, ax=ax)\n",
    "move_legend(ax, \"upper left\")"
   ]
  },
  {
   "cell_type": "code",
   "execution_count": null,
   "id": "cab6368a-ab21-4180-8f48-3d2ece1a44b7",
   "metadata": {},
   "outputs": [],
   "source": [
    "plt.figure(figsize=(10,4), dpi=200)\n",
    "sns.histplot(data=norm_scores, bins=50)"
   ]
  },
  {
   "cell_type": "markdown",
   "id": "22d05f1a-c4ab-4513-9520-d108f5292887",
   "metadata": {},
   "source": [
    "# ¿Cómo están puntuadas las peores películas en las demás plataformas?"
   ]
  },
  {
   "cell_type": "code",
   "execution_count": null,
   "id": "a64448db-8466-448e-86bd-9ec24b4a5752",
   "metadata": {},
   "outputs": [],
   "source": [
    "plt.figure(figsize=(10,4), dpi=200)\n",
    "sns.clustermap(data=norm_scores, col_cluster=False)"
   ]
  },
  {
   "cell_type": "markdown",
   "id": "a0b0cda8-b48c-4090-8687-4be069d97b3d",
   "metadata": {},
   "source": [
    "### ¡Claramente Fandango está puntuando las películas muy por encima de lo que hacen otras páginas web!"
   ]
  },
  {
   "cell_type": "code",
   "execution_count": null,
   "id": "23c2d23e-6971-4ad0-8cb6-e5e6e14d4134",
   "metadata": {},
   "outputs": [],
   "source": [
    "norm_scores['FILM'] = df['FILM']"
   ]
  },
  {
   "cell_type": "code",
   "execution_count": null,
   "id": "ba1ad427-9b21-4a15-a923-1d3cd191bbdf",
   "metadata": {},
   "outputs": [],
   "source": [
    "norm_scores.nsmallest(10,'RT_Norm')"
   ]
  },
  {
   "cell_type": "code",
   "execution_count": null,
   "id": "cd99f802-7802-4304-9bcd-fbeaccec0804",
   "metadata": {},
   "outputs": [],
   "source": [
    "plt.figure(figsize=(10,4), dpi=200)\n",
    "sns.kdeplot(data=norm_scores.nsmallest(10,'RT_Norm'), clip=[0,5], fill=True)\n",
    "plt.title(\"Rating for RT Critic's 10 Worst Reviewed Films\")"
   ]
  },
  {
   "cell_type": "markdown",
   "id": "e72e7aed-4159-4efb-a180-4a3b9bcf900b",
   "metadata": {},
   "source": [
    "### Revisamos la película \"Taken 3\""
   ]
  },
  {
   "cell_type": "code",
   "execution_count": null,
   "id": "94097821-bb0e-4e04-8694-4a0c62a2a318",
   "metadata": {},
   "outputs": [],
   "source": [
    "norm_scores.iloc[25]"
   ]
  },
  {
   "cell_type": "code",
   "execution_count": null,
   "id": "efb43762-5608-4916-a057-c085bd8a5d56",
   "metadata": {},
   "outputs": [],
   "source": [
    "(0.4+2.3+1.3+2.3+3.0)/5"
   ]
  }
 ],
 "metadata": {
  "kernelspec": {
   "display_name": "Python 3 (ipykernel)",
   "language": "python",
   "name": "python3"
  },
  "language_info": {
   "codemirror_mode": {
    "name": "ipython",
    "version": 3
   },
   "file_extension": ".py",
   "mimetype": "text/x-python",
   "name": "python",
   "nbconvert_exporter": "python",
   "pygments_lexer": "ipython3",
   "version": "3.11.1"
  }
 },
 "nbformat": 4,
 "nbformat_minor": 5
}
